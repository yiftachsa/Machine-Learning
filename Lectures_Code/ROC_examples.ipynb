{
  "nbformat": 4,
  "nbformat_minor": 0,
  "metadata": {
    "colab": {
      "name": "ROC_examples.ipynb",
      "provenance": [],
      "collapsed_sections": []
    },
    "kernelspec": {
      "name": "python3",
      "display_name": "Python 3"
    }
  },
  "cells": [
    {
      "cell_type": "markdown",
      "metadata": {
        "id": "-RhToEnjeUkU"
      },
      "source": [
        "# Example for ROC and Precison-recall curves\n",
        "Adopted from [Jason Brownlee's blog post](https://machinelearningmastery.com/roc-curves-and-precision-recall-curves-for-classification-in-python/)"
      ]
    },
    {
      "cell_type": "code",
      "metadata": {
        "id": "blWZnGVeV1pl"
      },
      "source": [
        "from sklearn.linear_model import LogisticRegression\n",
        "from sklearn.datasets import load_breast_cancer\n",
        "from sklearn.model_selection import train_test_split\n",
        "from sklearn.metrics import accuracy_score\n",
        "from matplotlib import pyplot\n",
        "\n",
        "# Load Cancer data set\n",
        "X, Y = load_breast_cancer(return_X_y=True)\n",
        "X_train, X_test, y_train, y_test = train_test_split(X, Y,\\\n",
        "    test_size=0.2, random_state=934)\n",
        "\n",
        "# Train model\n",
        "model = LogisticRegression(max_iter=10000)\n",
        "model = model.fit(X_train, y_train)"
      ],
      "execution_count": 59,
      "outputs": []
    },
    {
      "cell_type": "markdown",
      "metadata": {
        "id": "IhGhUQcGWlkx"
      },
      "source": [
        "## Accuracy"
      ]
    },
    {
      "cell_type": "code",
      "metadata": {
        "colab": {
          "base_uri": "https://localhost:8080/"
        },
        "id": "5ZGtyLHaWnrz",
        "outputId": "c3dcd6f2-8761-4edd-a55f-6c0ae6ccf511"
      },
      "source": [
        "print(accuracy_score(y_test, model.predict(X_test)))"
      ],
      "execution_count": 60,
      "outputs": [
        {
          "output_type": "stream",
          "text": [
            "0.9473684210526315\n"
          ],
          "name": "stdout"
        }
      ]
    },
    {
      "cell_type": "markdown",
      "metadata": {
        "id": "n43Vz3tgXcuP"
      },
      "source": [
        "## Calculate AUC"
      ]
    },
    {
      "cell_type": "code",
      "metadata": {
        "colab": {
          "base_uri": "https://localhost:8080/"
        },
        "id": "E5WCyYqrWaVO",
        "outputId": "d0fd14b5-3e16-4b09-f71b-d04a73c58f88"
      },
      "source": [
        "from sklearn.metrics import roc_auc_score\n",
        "\n",
        "# Probabilities of the second class\n",
        "lr_probs = model.predict_proba(X_test)[:, 1]\n",
        "lr_auc = roc_auc_score(y_test, lr_probs)\n",
        "print('AUC: %.3f' % lr_auc)"
      ],
      "execution_count": 61,
      "outputs": [
        {
          "output_type": "stream",
          "text": [
            "AUC: 0.986\n"
          ],
          "name": "stdout"
        }
      ]
    },
    {
      "cell_type": "markdown",
      "metadata": {
        "id": "mqxfrOnUX-64"
      },
      "source": [
        "## Naive prediction"
      ]
    },
    {
      "cell_type": "code",
      "metadata": {
        "colab": {
          "base_uri": "https://localhost:8080/"
        },
        "id": "YD4g9TYoXE3A",
        "outputId": "a0c8fc66-cfc7-4889-abba-6ad155614b77"
      },
      "source": [
        "# generate a no skill prediction (majority class)\n",
        "common_label = int(round(sum(y_train)/len(y_train)))\n",
        "ns_probs = [common_label for _ in range(len(y_test))]\n",
        "\n",
        "ns_auc = roc_auc_score(y_test, ns_probs)\n",
        "print('AUC: %.3f' % ns_auc)"
      ],
      "execution_count": 64,
      "outputs": [
        {
          "output_type": "stream",
          "text": [
            "AUC: 0.500\n"
          ],
          "name": "stdout"
        }
      ]
    },
    {
      "cell_type": "markdown",
      "metadata": {
        "id": "P2lLZXydZBO3"
      },
      "source": [
        "## Calculate ROC curves"
      ]
    },
    {
      "cell_type": "code",
      "metadata": {
        "colab": {
          "base_uri": "https://localhost:8080/",
          "height": 300
        },
        "id": "_BkcVNMUYIQv",
        "outputId": "c7bf5c1e-8e1a-4ea4-e6fc-be2d6747692e"
      },
      "source": [
        "from sklearn.metrics import roc_curve\n",
        "\n",
        "# FPR and TPR along thresholds\n",
        "ns_fpr, ns_tpr, _ = roc_curve(y_test, ns_probs)\n",
        "lr_fpr, lr_tpr, _ = roc_curve(y_test, lr_probs)\n",
        "\n",
        "# plot the roc curve for the model\n",
        "pyplot.plot(ns_fpr, ns_tpr, linestyle='--', label='Naive')\n",
        "pyplot.plot(lr_fpr, lr_tpr, marker='.', label='Logistic')\n",
        "# axis labels\n",
        "pyplot.xlabel('False Positive Rate')\n",
        "pyplot.ylabel('True Positive Rate')\n",
        "# show the legend\n",
        "pyplot.legend()\n",
        "# show the plot\n",
        "pyplot.show()"
      ],
      "execution_count": 66,
      "outputs": [
        {
          "output_type": "display_data",
          "data": {
            "image/png": "[encoded data removed]",
            "text/plain": [
              "<Figure size 432x288 with 1 Axes>"
            ]
          },
          "metadata": {
            "tags": [],
            "needs_background": "light"
          }
        }
      ]
    },
    {
      "cell_type": "markdown",
      "metadata": {
        "id": "z26GQrmQaAi6"
      },
      "source": [
        "# Definitions\n",
        "* **Precision** = **Positive Predictive Power** = $\\frac{TP}{TP+FP}$\n",
        "* **Recall** = **Sensitivity** = $\\frac{TP}{TP+FN}$ \n",
        "* $F_1 = 2\\cdot \\frac{Precision\\cdot Recall}{Precision+Recall}=\\frac{TP}{TP+\\frac{1}{2}(FP+FN)}$\n",
        "\n",
        "In imbalanced setting, we may be less likely intrested in predicting correctly class 0 where the there is a large number of class 0 examples. \n",
        "\n",
        "Precision and recall are calculations that do not make use of the true negatives. It is only concerned with the correct prediction of the minority class (class 1)."
      ]
    },
    {
      "cell_type": "markdown",
      "metadata": {
        "id": "mk5QFN-TbPpm"
      },
      "source": [
        "\n",
        "\n",
        "> While the baseline is fixed with ROC, the baseline of [precision-recall curve] is determined by the ratio of positives (P) and negatives (N) as y = P / (P + N). For instance, we have y = 0.5 for a balanced class distribution\n",
        "\n"
      ]
    },
    {
      "cell_type": "code",
      "metadata": {
        "id": "teYlgoZUZiix"
      },
      "source": [
        "from sklearn.metrics import precision_recall_curve\n",
        "from sklearn.metrics import f1_score, auc\n",
        "\n",
        "# predict class values (not probabilities)\n",
        "yhat = model.predict(X_test)\n",
        "lr_precision, lr_recall, _ = precision_recall_curve(y_test, lr_probs)\n",
        "lr_f1, lr_auc = f1_score(y_test, yhat), auc(lr_recall, lr_precision)\n",
        "# Naive value\n",
        "ns_precision, ns_recall, _ = precision_recall_curve(y_test, ns_probs)\n",
        "ns_f1, ns_auc = f1_score(y_test, ns_probs), auc(ns_recall, ns_precision)"
      ],
      "execution_count": 67,
      "outputs": []
    },
    {
      "cell_type": "markdown",
      "metadata": {
        "id": "gQY8R68hbyfy"
      },
      "source": [
        "## Summarize scores"
      ]
    },
    {
      "cell_type": "code",
      "metadata": {
        "colab": {
          "base_uri": "https://localhost:8080/"
        },
        "id": "LofhwkU-bysF",
        "outputId": "710f7fb4-1978-41b0-e20e-e98356630053"
      },
      "source": [
        "print('Logistic: f1=%.3f auc=%.3f' % (lr_f1, lr_auc))\n",
        "print('Naive: f1=%.3f auc=%.3f' % (ns_f1, ns_auc))"
      ],
      "execution_count": 51,
      "outputs": [
        {
          "output_type": "stream",
          "text": [
            "Logistic: f1=0.959 auc=0.991\n",
            "Naive: f1=0.774 auc=0.816\n"
          ],
          "name": "stdout"
        }
      ]
    },
    {
      "cell_type": "code",
      "metadata": {
        "colab": {
          "base_uri": "https://localhost:8080/",
          "height": 300
        },
        "id": "RvAFMVJccaAN",
        "outputId": "ea1e8a7a-1888-4633-c632-ac5d1a10150a"
      },
      "source": [
        "# plot the precision-recall curves\n",
        "no_skill = len(y_test[y_test==1]) / len(y_test)\n",
        "pyplot.plot([0, 1], [no_skill, no_skill], linestyle='--', label='Naive')\n",
        "pyplot.plot(lr_recall, lr_precision, marker='.', label='Logistic')\n",
        "# axis labels\n",
        "pyplot.xlabel('Recall')\n",
        "pyplot.ylabel('Precision')\n",
        "# show the legend\n",
        "pyplot.legend()\n",
        "# show the plot\n",
        "pyplot.show()"
      ],
      "execution_count": 52,
      "outputs": [
        {
          "output_type": "display_data",
          "data": {
            "image/png": "[encoded data removed]",
            "text/plain": [
              "<Figure size 432x288 with 1 Axes>"
            ]
          },
          "metadata": {
            "tags": [],
            "needs_background": "light"
          }
        }
      ]
    },
    {
      "cell_type": "code",
      "metadata": {
        "id": "El_KryDzdQlG"
      },
      "source": [
        ""
      ],
      "execution_count": null,
      "outputs": []
    },
    {
      "cell_type": "markdown",
      "metadata": {
        "id": "I-QzCkv6das0"
      },
      "source": [
        "# Imbalanced example"
      ]
    },
    {
      "cell_type": "code",
      "metadata": {
        "colab": {
          "base_uri": "https://localhost:8080/",
          "height": 334
        },
        "id": "yEGj-YT-de6d",
        "outputId": "68bb4775-58d1-43ff-a4ce-3f1f97436b87"
      },
      "source": [
        "# roc curve and auc on an imbalanced dataset\n",
        "from sklearn.datasets import make_classification\n",
        "\n",
        "# generate 2 class dataset\n",
        "X, y = make_classification(n_samples=1000, n_classes=2, weights=[0.99,0.01], random_state=1)\n",
        "# split into train/test sets\n",
        "trainX, testX, trainy, testy = train_test_split(X, y, test_size=0.5, random_state=2)"
      ],
      "execution_count": 53,
      "outputs": [
        {
          "output_type": "stream",
          "text": [
            "No Skill: ROC AUC=0.500\n",
            "Logistic: ROC AUC=0.716\n"
          ],
          "name": "stdout"
        },
        {
          "output_type": "display_data",
          "data": {
            "image/png": "[encoded data removed]",
            "text/plain": [
              "<Figure size 432x288 with 1 Axes>"
            ]
          },
          "metadata": {
            "tags": [],
            "needs_background": "light"
          }
        }
      ]
    },
    {
      "cell_type": "code",
      "metadata": {
        "colab": {
          "base_uri": "https://localhost:8080/"
        },
        "id": "2I_apq7TgN9Q",
        "outputId": "7be59466-32c3-4340-b82d-369616f8f18a"
      },
      "source": [
        "# summarize dataset\n",
        "print('Dataset: Class0=%d, Class1=%d' % (len(y[y==0]), len(y[y==1])))\n",
        "print('Train: Class0=%d, Class1=%d' % (len(trainy[trainy==0]), len(trainy[trainy==1])))\n",
        "print('Test: Class0=%d, Class1=%d' % (len(testy[testy==0]), len(testy[testy==1])))"
      ],
      "execution_count": 55,
      "outputs": [
        {
          "output_type": "stream",
          "text": [
            "Dataset: Class0=985, Class1=15\n",
            "Train: Class0=496, Class1=4\n",
            "Test: Class0=489, Class1=11\n"
          ],
          "name": "stdout"
        }
      ]
    },
    {
      "cell_type": "markdown",
      "metadata": {
        "id": "gQilIWKfgYLG"
      },
      "source": [
        "## ROC Curve"
      ]
    },
    {
      "cell_type": "code",
      "metadata": {
        "colab": {
          "base_uri": "https://localhost:8080/",
          "height": 334
        },
        "id": "DlMVmhYUgYUi",
        "outputId": "eb2343b7-8dfe-479f-8177-e462b02ddad8"
      },
      "source": [
        "# generate a naive prediction (majority class)\n",
        "ns_probs = [0 for _ in range(len(testy))]\n",
        "# fit a model\n",
        "model = LogisticRegression()\n",
        "model.fit(trainX, trainy)\n",
        "# predict probabilities\n",
        "lr_probs = model.predict_proba(testX)\n",
        "# keep probabilities for the positive outcome only\n",
        "lr_probs = lr_probs[:, 1]\n",
        "# calculate scores\n",
        "ns_auc = roc_auc_score(testy, ns_probs)\n",
        "lr_auc = roc_auc_score(testy, lr_probs)\n",
        "# summarize scores\n",
        "print('No Skill: ROC AUC=%.3f' % (ns_auc))\n",
        "print('Logistic: ROC AUC=%.3f' % (lr_auc))\n",
        "# calculate roc curves\n",
        "ns_fpr, ns_tpr, _ = roc_curve(testy, ns_probs)\n",
        "lr_fpr, lr_tpr, _ = roc_curve(testy, lr_probs)\n",
        "# plot the roc curve for the model\n",
        "pyplot.plot(ns_fpr, ns_tpr, linestyle='--', label='No Skill')\n",
        "pyplot.plot(lr_fpr, lr_tpr, marker='.', label='Logistic')\n",
        "# axis labels\n",
        "pyplot.xlabel('False Positive Rate')\n",
        "pyplot.ylabel('True Positive Rate')\n",
        "# show the legend\n",
        "pyplot.legend()\n",
        "# show the plot\n",
        "pyplot.show()"
      ],
      "execution_count": 56,
      "outputs": [
        {
          "output_type": "stream",
          "text": [
            "No Skill: ROC AUC=0.500\n",
            "Logistic: ROC AUC=0.716\n"
          ],
          "name": "stdout"
        },
        {
          "output_type": "display_data",
          "data": {
            "image/png": "[encoded data removed]",
            "text/plain": [
              "<Figure size 432x288 with 1 Axes>"
            ]
          },
          "metadata": {
            "tags": [],
            "needs_background": "light"
          }
        }
      ]
    },
    {
      "cell_type": "markdown",
      "metadata": {
        "id": "X2yqCd1ld9YY"
      },
      "source": [
        "## Precision-Recall for Imbalaned example"
      ]
    },
    {
      "cell_type": "code",
      "metadata": {
        "colab": {
          "base_uri": "https://localhost:8080/",
          "height": 317
        },
        "id": "cJwtoxZ6eBbI",
        "outputId": "cad136a5-3aa7-4d66-d177-760b2b64452e"
      },
      "source": [
        "# predict probabilities\n",
        "lr_probs = model.predict_proba(testX)\n",
        "# keep probabilities for the positive outcome only\n",
        "lr_probs = lr_probs[:, 1]\n",
        "# predict class values\n",
        "yhat = model.predict(testX)\n",
        "# calculate precision and recall for each threshold\n",
        "lr_precision, lr_recall, _ = precision_recall_curve(testy, lr_probs)\n",
        "# calculate scores\n",
        "lr_f1, lr_auc = f1_score(testy, yhat), auc(lr_recall, lr_precision)\n",
        "# summarize scores\n",
        "print('Logistic: f1=%.3f auc=%.3f' % (lr_f1, lr_auc))\n",
        "# plot the precision-recall curves\n",
        "no_skill = len(testy[testy==1]) / len(testy)\n",
        "pyplot.plot([0, 1], [no_skill, no_skill], linestyle='--', label='No Skill')\n",
        "pyplot.plot(lr_recall, lr_precision, marker='.', label='Logistic')\n",
        "# axis labels\n",
        "pyplot.xlabel('Recall')\n",
        "pyplot.ylabel('Precision')\n",
        "# show the legend\n",
        "pyplot.legend()\n",
        "# show the plot\n",
        "pyplot.show()"
      ],
      "execution_count": 54,
      "outputs": [
        {
          "output_type": "stream",
          "text": [
            "Logistic: f1=0.000 auc=0.054\n"
          ],
          "name": "stdout"
        },
        {
          "output_type": "display_data",
          "data": {
            "image/png": "[encoded data removed]",
            "text/plain": [
              "<Figure size 432x288 with 1 Axes>"
            ]
          },
          "metadata": {
            "tags": [],
            "needs_background": "light"
          }
        }
      ]
    },
    {
      "cell_type": "markdown",
      "metadata": {
        "id": "uaxraSqteNAo"
      },
      "source": [
        "The plot of the precision-recall curve highlights that the model is just barely above the no skill line for most thresholds.\n",
        "\n",
        "This is possible because the model predicts probabilities and is uncertain about some cases. These get exposed through the different thresholds evaluated in the construction of the curve, flipping some class 0 to class 1, offering some precision but very low recall."
      ]
    }
  ]
}