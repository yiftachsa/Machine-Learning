{
  "nbformat": 4,
  "nbformat_minor": 0,
  "metadata": {
    "kernelspec": {
      "display_name": "Python 3",
      "language": "python",
      "name": "python3"
    },
    "language_info": {
      "codemirror_mode": {
        "name": "ipython",
        "version": 3
      },
      "file_extension": ".py",
      "mimetype": "text/x-python",
      "name": "python",
      "nbconvert_exporter": "python",
      "pygments_lexer": "ipython3",
      "version": "3.8.5"
    },
    "colab": {
      "name": "plot_scaling_importance.ipynb",
      "provenance": []
    }
  },
  "cells": [
    {
      "cell_type": "code",
      "metadata": {
        "id": "R3tsp3PIv78n"
      },
      "source": [
        "%matplotlib inline"
      ],
      "execution_count": null,
      "outputs": []
    },
    {
      "cell_type": "markdown",
      "metadata": {
        "id": "FsT5IsmSv78u"
      },
      "source": [
        "\n",
        "# Importance of Feature Scaling\n",
        "\n",
        "\n",
        "Feature scaling through standardization (or Z-score normalization)\n",
        "can be an important preprocessing step for many machine learning\n",
        "algorithms. Standardization involves rescaling the features such\n",
        "that they have the properties of a standard normal distribution\n",
        "with a mean of zero and a standard deviation of one.\n",
        "\n",
        "The dataset used is the Wine Dataset available at [UCI](https://archive.ics.uci.edu/ml/datasets/Wine). This dataset\n",
        "has continuous features that are heterogeneous in scale due to differing\n",
        "properties that they measure (i.e alcohol content, and malic acid).\n",
        "\n",
        "The transformed data is then used to train a naive Bayes classifier."
      ]
    },
    {
      "cell_type": "code",
      "metadata": {
        "colab": {
          "base_uri": "https://localhost:8080/"
        },
        "id": "NHXWy7rBv78w",
        "outputId": "0c26c9cd-e77e-43ef-c3ed-c1441ff7b246"
      },
      "source": [
        "from sklearn.model_selection import train_test_split\n",
        "from sklearn.preprocessing import StandardScaler\n",
        "from sklearn.naive_bayes import GaussianNB\n",
        "from sklearn import metrics\n",
        "import matplotlib.pyplot as plt\n",
        "from sklearn.datasets import load_wine\n",
        "from sklearn.pipeline import make_pipeline\n",
        "print(__doc__)\n",
        "\n",
        "# Code source: Tyler Lanigan <tylerlanigan@gmail.com>\n",
        "#              Sebastian Raschka <mail@sebastianraschka.com>\n",
        "\n",
        "# License: BSD 3 clause\n",
        "\n",
        "RANDOM_STATE = 42\n",
        "FIG_SIZE = (10, 7)\n",
        "\n",
        "\n",
        "features, target = load_wine(return_X_y=True)"
      ],
      "execution_count": null,
      "outputs": [
        {
          "output_type": "stream",
          "text": [
            "Automatically created module for IPython interactive environment\n"
          ],
          "name": "stdout"
        }
      ]
    },
    {
      "cell_type": "code",
      "metadata": {
        "colab": {
          "base_uri": "https://localhost:8080/"
        },
        "id": "p-Ny6Ngixz8z",
        "outputId": "b9e44e74-8d20-4372-fa09-f855fe627bdc"
      },
      "source": [
        "features.shape"
      ],
      "execution_count": null,
      "outputs": [
        {
          "output_type": "execute_result",
          "data": {
            "text/plain": [
              "(178, 13)"
            ]
          },
          "metadata": {
            "tags": []
          },
          "execution_count": 4
        }
      ]
    },
    {
      "cell_type": "markdown",
      "metadata": {
        "id": "-M-8ctQTPhma"
      },
      "source": [
        "### The attributes are:\n",
        "1. Alcohol\n",
        "2. Malic acid\n",
        "3. Ash\n",
        "4. Alcalinity of ash\n",
        "5. Magnesium\n",
        "6. Total phenols\n",
        "7. Flavanoids\n",
        "8. Nonflavanoid phenols\n",
        "9. Proanthocyanins\n",
        "10.Color intensity\n",
        "11. Hue\n",
        "12. OD280/OD315 of diluted wines\n",
        "13. Proline "
      ]
    },
    {
      "cell_type": "code",
      "metadata": {
        "colab": {
          "base_uri": "https://localhost:8080/"
        },
        "id": "VTYLcBukPPBh",
        "outputId": "663638e3-f866-452c-ee09-3c0424b61d58"
      },
      "source": [
        "target"
      ],
      "execution_count": null,
      "outputs": [
        {
          "output_type": "execute_result",
          "data": {
            "text/plain": [
              "array([0, 0, 0, 0, 0, 0, 0, 0, 0, 0, 0, 0, 0, 0, 0, 0, 0, 0, 0, 0, 0, 0,\n",
              "       0, 0, 0, 0, 0, 0, 0, 0, 0, 0, 0, 0, 0, 0, 0, 0, 0, 0, 0, 0, 0, 0,\n",
              "       0, 0, 0, 0, 0, 0, 0, 0, 0, 0, 0, 0, 0, 0, 0, 1, 1, 1, 1, 1, 1, 1,\n",
              "       1, 1, 1, 1, 1, 1, 1, 1, 1, 1, 1, 1, 1, 1, 1, 1, 1, 1, 1, 1, 1, 1,\n",
              "       1, 1, 1, 1, 1, 1, 1, 1, 1, 1, 1, 1, 1, 1, 1, 1, 1, 1, 1, 1, 1, 1,\n",
              "       1, 1, 1, 1, 1, 1, 1, 1, 1, 1, 1, 1, 1, 1, 1, 1, 1, 1, 1, 1, 2, 2,\n",
              "       2, 2, 2, 2, 2, 2, 2, 2, 2, 2, 2, 2, 2, 2, 2, 2, 2, 2, 2, 2, 2, 2,\n",
              "       2, 2, 2, 2, 2, 2, 2, 2, 2, 2, 2, 2, 2, 2, 2, 2, 2, 2, 2, 2, 2, 2,\n",
              "       2, 2])"
            ]
          },
          "metadata": {
            "tags": []
          },
          "execution_count": 5
        }
      ]
    },
    {
      "cell_type": "code",
      "metadata": {
        "id": "FN70krAlxGG9"
      },
      "source": [
        "# Make a train/test split using 30% test size\n",
        "X_train, X_test, y_train, y_test = train_test_split(features, target,\n",
        "                                                    test_size=0.30,\n",
        "                                                    random_state=RANDOM_STATE)\n",
        "\n",
        "# Fit to data and predict using pipelined GNB.\n",
        "unscaled_clf = make_pipeline(GaussianNB())\n",
        "unscaled_clf.fit(X_train, y_train)\n",
        "pred_test = unscaled_clf.predict(X_test)"
      ],
      "execution_count": null,
      "outputs": []
    },
    {
      "cell_type": "markdown",
      "metadata": {
        "id": "33yYKnm0P-hp"
      },
      "source": [
        "## Show prediction accuracies in scaled and unscaled data.\n"
      ]
    },
    {
      "cell_type": "code",
      "metadata": {
        "colab": {
          "base_uri": "https://localhost:8080/"
        },
        "id": "Nho9cayjP-sV",
        "outputId": "9343b480-2df2-42ee-bd63-41ebe08b0ecf"
      },
      "source": [
        "print('\\nPrediction accuracy for the normal test dataset without scaling')\n",
        "print('{:.2%}\\n'.format(metrics.accuracy_score(y_test, pred_test)))"
      ],
      "execution_count": null,
      "outputs": [
        {
          "output_type": "stream",
          "text": [
            "\n",
            "Prediction accuracy for the normal test dataset without scaling\n",
            "100.00%\n",
            "\n"
          ],
          "name": "stdout"
        }
      ]
    },
    {
      "cell_type": "markdown",
      "metadata": {
        "id": "aOoauoPpQFlv"
      },
      "source": [
        "## With scaling"
      ]
    },
    {
      "cell_type": "code",
      "metadata": {
        "colab": {
          "base_uri": "https://localhost:8080/"
        },
        "id": "Xs3daY91QMJt",
        "outputId": "a179025a-0e92-45cd-843a-2ca2a9987bae"
      },
      "source": [
        "# Fit to data and predict using pipelined scaling, GNB.\n",
        "std_clf = make_pipeline(StandardScaler(), GaussianNB())\n",
        "std_clf.fit(X_train, y_train)\n",
        "pred_test_std = std_clf.predict(X_test)\n",
        "\n",
        "print('\\nPrediction accuracy for the standardized test dataset')\n",
        "print('{:.2%}\\n'.format(metrics.accuracy_score(y_test, pred_test_std)))"
      ],
      "execution_count": null,
      "outputs": [
        {
          "output_type": "stream",
          "text": [
            "\n",
            "Prediction accuracy for the standardized test dataset\n",
            "100.00%\n",
            "\n"
          ],
          "name": "stdout"
        }
      ]
    },
    {
      "cell_type": "code",
      "metadata": {
        "id": "wgW_hMOnP3eu"
      },
      "source": [
        ""
      ],
      "execution_count": null,
      "outputs": []
    }
  ]
}