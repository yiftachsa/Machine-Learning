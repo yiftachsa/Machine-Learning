{
  "nbformat": 4,
  "nbformat_minor": 0,
  "metadata": {
    "kernel_info": {
      "name": "python3"
    },
    "kernelspec": {
      "name": "python3",
      "language": "python",
      "display_name": "Python 3"
    },
    "language_info": {
      "name": "python",
      "version": "3.7.5",
      "mimetype": "text/x-python",
      "codemirror_mode": {
        "name": "ipython",
        "version": 3
      },
      "pygments_lexer": "ipython3",
      "nbconvert_exporter": "python",
      "file_extension": ".py"
    },
    "nteract": {
      "version": "0.8.4"
    },
    "colab": {
      "name": "Ensemble_learning.ipynb",
      "provenance": []
    }
  },
  "cells": [
    {
      "cell_type": "markdown",
      "metadata": {
        "collapsed": false,
        "outputHidden": false,
        "inputHidden": false,
        "id": "c2gQ1UM2j19m"
      },
      "source": [
        "# Ensemble learning"
      ]
    },
    {
      "cell_type": "code",
      "metadata": {
        "outputHidden": false,
        "inputHidden": false,
        "id": "cgKJtmr1j19r"
      },
      "source": [
        "#from sklearn import model_selection \n",
        "from sklearn.model_selection import train_test_split\n",
        "from sklearn.ensemble import BaggingClassifier \n",
        "from sklearn.tree import DecisionTreeClassifier \n",
        "import pandas as pd\n",
        "from sklearn import datasets"
      ],
      "execution_count": null,
      "outputs": []
    },
    {
      "cell_type": "code",
      "metadata": {
        "outputHidden": false,
        "inputHidden": false,
        "id": "yoU8oyZQj19t"
      },
      "source": [
        "# load the data \n",
        "digits = datasets.load_digits()\n",
        "X = digits.data\n",
        "Y = digits.target\n",
        "\n",
        "X_train, X_test, y_train, y_test = train_test_split(X, Y,\\\n",
        "    test_size=0.2, random_state=22)\n",
        "\n",
        "seed = 1710925\n",
        "\n",
        "# initialize the base classifier \n",
        "base_cls = DecisionTreeClassifier(max_depth=3) \n",
        "  \n",
        "# no. of base classifier \n",
        "num_trees = 500\n",
        "\n",
        "# bagging classifier\n",
        "# More parameters are available. See documentation:\n",
        "# https://scikit-learn.org/stable/modules/generated/sklearn.ensemble.BaggingClassifier.html\n",
        "model = BaggingClassifier(base_estimator = base_cls, \n",
        "                          n_estimators = num_trees, \n",
        "                          random_state = seed)"
      ],
      "execution_count": null,
      "outputs": []
    },
    {
      "cell_type": "code",
      "metadata": {
        "outputHidden": false,
        "inputHidden": false,
        "id": "_JJSESZAj19u",
        "outputId": "a1d3c093-3d13-4e2e-803a-c1c8e88ad934"
      },
      "source": [
        "model.fit(X_train, y_train)\n",
        "accuracy = sum(model.predict(X_test) == y_test)/len(y_test)\n",
        "print('Test Accuracy:', accuracy)"
      ],
      "execution_count": null,
      "outputs": [
        {
          "output_type": "stream",
          "name": "stdout",
          "text": [
            "Test Accuracy: 0.7138888888888889\n"
          ]
        }
      ]
    },
    {
      "cell_type": "markdown",
      "metadata": {
        "collapsed": false,
        "outputHidden": false,
        "inputHidden": false,
        "id": "TNmxJHOfj19w"
      },
      "source": [
        "# Grid search"
      ]
    },
    {
      "cell_type": "code",
      "metadata": {
        "outputHidden": false,
        "inputHidden": false,
        "id": "H9cHqhr0j19w"
      },
      "source": [
        "from sklearn.ensemble import RandomForestClassifier\n",
        "#from sklearn.tree import DecisionTreeClassifier\n",
        "from sklearn.metrics import make_scorer, accuracy_score\n",
        "from sklearn.model_selection import GridSearchCV\n",
        "\n",
        "# Choose the type of classifier. \n",
        "clf = RandomForestClassifier()\n",
        "#clf = DecisionTreeClassifier\n",
        "\n",
        "# Choose some parameter combinations to try\n",
        "parameters = {'n_estimators': [4, 6, 9],\n",
        "              'max_features': ['log2', 'sqrt','auto'], \n",
        "              'criterion': ['entropy', 'gini'],\n",
        "              'max_depth': [2, 3, 5, 10], \n",
        "              'min_samples_split': [2, 3, 5],\n",
        "              'min_samples_leaf': [1,5,8]\n",
        "             }\n",
        "\n",
        "# Type of scoring used to compare parameter combinations\n",
        "acc_scorer = make_scorer(accuracy_score)\n",
        "\n",
        "# Run the grid search\n",
        "grid_obj = GridSearchCV(clf, parameters,\n",
        "                        scoring=acc_scorer,\n",
        "                        return_train_score=True)\n",
        "grid_obj = grid_obj.fit(X_train, y_train)"
      ],
      "execution_count": null,
      "outputs": []
    },
    {
      "cell_type": "code",
      "metadata": {
        "outputHidden": false,
        "inputHidden": false,
        "id": "28D9eEuIj19x",
        "outputId": "8653de2e-eda3-4573-8a15-902c735b7e17"
      },
      "source": [
        "print(grid_obj.best_params_)"
      ],
      "execution_count": null,
      "outputs": [
        {
          "output_type": "stream",
          "name": "stdout",
          "text": [
            "{'criterion': 'entropy', 'max_depth': 3, 'max_features': 'log2', 'min_samples_leaf': 5, 'min_samples_split': 2, 'n_estimators': 9}\n"
          ]
        }
      ]
    },
    {
      "cell_type": "markdown",
      "metadata": {
        "id": "0qcdfjBkj19y"
      },
      "source": [
        "### Best test score across all models"
      ]
    },
    {
      "cell_type": "code",
      "metadata": {
        "outputHidden": false,
        "inputHidden": false,
        "id": "iGvDXUwCj19z",
        "outputId": "bc88e497-6af2-4b87-8140-f6f9be57b6cf"
      },
      "source": [
        "# Parameters and evaluation of each model\n",
        "scores = pd.DataFrame(grid_obj.cv_results_)\n",
        "#scores[['params', 'mean_test_score', 'std_test_score', 'mean_train_score']]\n",
        "max(scores['mean_test_score'])"
      ],
      "execution_count": null,
      "outputs": [
        {
          "output_type": "execute_result",
          "execution_count": 19,
          "data": {
            "text/plain": [
              "0.8225561362756484"
            ]
          },
          "metadata": {}
        }
      ]
    },
    {
      "cell_type": "markdown",
      "metadata": {
        "id": "QlG4OqJjj190"
      },
      "source": [
        "### Train again using best parametrs"
      ]
    },
    {
      "cell_type": "code",
      "metadata": {
        "outputHidden": false,
        "inputHidden": false,
        "id": "M_eFTEA-j191",
        "outputId": "33db5b20-0385-40a0-c1e0-ab7bc5d9b749"
      },
      "source": [
        "# Set the clf to the best combination of parameters\n",
        "clf = grid_obj.best_estimator_\n",
        "\n",
        "# Fit the best algorithm to the data. \n",
        "clf.fit(X_train, y_train)\n",
        "print(accuracy_score(y_test, clf.predict(X_test)))"
      ],
      "execution_count": null,
      "outputs": [
        {
          "output_type": "stream",
          "name": "stdout",
          "text": [
            "0.8194444444444444\n"
          ]
        }
      ]
    },
    {
      "cell_type": "markdown",
      "metadata": {
        "collapsed": false,
        "outputHidden": false,
        "inputHidden": false,
        "id": "Loo1oUIZj193"
      },
      "source": [
        "# Voting\n",
        "## Hard voting"
      ]
    },
    {
      "cell_type": "code",
      "metadata": {
        "outputHidden": false,
        "inputHidden": false,
        "id": "u03SAzvoj193"
      },
      "source": [
        "from sklearn.svm import SVC\n",
        "from sklearn.linear_model import LogisticRegression\n",
        "from sklearn.ensemble import RandomForestClassifier\n",
        "from sklearn.ensemble import VotingClassifier\n",
        "from sklearn.datasets import load_breast_cancer\n",
        "from sklearn.model_selection import train_test_split\n",
        "\n",
        "X, Y = load_breast_cancer(return_X_y=True)\n",
        "X_train, X_test, y_train, y_test = train_test_split(X, Y,\\\n",
        "    test_size=0.2, random_state=934)\n",
        "\n",
        "log_clf = LogisticRegression(max_iter=10000)\n",
        "rnd_clf = RandomForestClassifier()\n",
        "svm_clf = SVC()\n",
        "\n",
        "voting_clf = VotingClassifier(\n",
        "\testimators = [('lr', log_clf), ('rf', rnd_clf), ('svc',svm_clf)],\n",
        "\tvoting = 'hard')\n",
        "voting_clf = voting_clf.fit(X_train, y_train)"
      ],
      "execution_count": null,
      "outputs": []
    },
    {
      "cell_type": "code",
      "metadata": {
        "outputHidden": false,
        "inputHidden": false,
        "id": "4EFKSdOJj194",
        "outputId": "f0e1d038-5b56-4492-da82-fa8bab778dd3"
      },
      "source": [
        "print(accuracy_score(y_test, voting_clf.predict(X_test)))"
      ],
      "execution_count": null,
      "outputs": [
        {
          "output_type": "stream",
          "name": "stdout",
          "text": [
            "0.9298245614035088\n"
          ]
        }
      ]
    },
    {
      "cell_type": "markdown",
      "metadata": {
        "id": "0aU994U5j194"
      },
      "source": [
        "## Soft Voting"
      ]
    },
    {
      "cell_type": "code",
      "metadata": {
        "outputHidden": false,
        "inputHidden": false,
        "id": "pEjSGiGzj195",
        "outputId": "6168ad7f-fd39-43a6-bd26-1bafebec1f10"
      },
      "source": [
        "from sklearn.svm import SVC\n",
        "from sklearn.linear_model import LogisticRegression\n",
        "from sklearn.ensemble import RandomForestClassifier\n",
        "from sklearn.ensemble import VotingClassifier\n",
        "from sklearn.datasets import load_breast_cancer\n",
        "from sklearn.model_selection import train_test_split\n",
        "\n",
        "X, Y = load_breast_cancer(return_X_y=True)\n",
        "X_train, X_test, y_train, y_test = train_test_split(X, Y,\\\n",
        "    test_size=0.2, random_state=934)\n",
        "\n",
        "log_clf = LogisticRegression(max_iter=10000)\n",
        "rnd_clf = RandomForestClassifier()\n",
        "svm_clf = SVC(probability=True)\n",
        "\n",
        "voting_clf = VotingClassifier(\n",
        "\testimators = [('lr', log_clf), ('rf', rnd_clf), ('svc',svm_clf)],\n",
        "    ################\n",
        "\tvoting = 'soft',\n",
        "    weights=(2,6,5))\n",
        "    ################\n",
        "voting_clf.fit(X_train, y_train)\n",
        "print(accuracy_score(y_test, voting_clf.predict(X_test)))"
      ],
      "execution_count": null,
      "outputs": [
        {
          "output_type": "stream",
          "name": "stdout",
          "text": [
            "0.9385964912280702\n"
          ]
        }
      ]
    },
    {
      "cell_type": "markdown",
      "metadata": {
        "collapsed": false,
        "outputHidden": false,
        "inputHidden": false,
        "id": "nGGENISQj196"
      },
      "source": [
        "# Bagging\n",
        "### Only instances are sampled"
      ]
    },
    {
      "cell_type": "code",
      "metadata": {
        "outputHidden": false,
        "inputHidden": false,
        "id": "1hwE-JpCj196",
        "outputId": "8117a932-cc1a-424f-e5cc-57b22ad17464"
      },
      "source": [
        "from sklearn.ensemble import BaggingClassifier\n",
        "from sklearn.tree import DecisionTreeClassifier\n",
        "\n",
        "bag_clf = BaggingClassifier(\n",
        "    DecisionTreeClassifier(), \n",
        "    n_estimators=50, # number of base estimators\n",
        "    max_samples=1.0, # number of samples to draw from X\n",
        "    bootstrap=True, # Draw with replacement\n",
        "    n_jobs=-1, # number of jobs to run in parallel\n",
        "    random_state=934)\n",
        "bag_clf.fit(X_train, y_train)\n",
        "\n",
        "y_pred = bag_clf.predict(X_test)\n",
        "print(accuracy_score(y_test, y_pred))"
      ],
      "execution_count": null,
      "outputs": [
        {
          "output_type": "stream",
          "name": "stdout",
          "text": [
            "0.9122807017543859\n"
          ]
        }
      ]
    },
    {
      "cell_type": "markdown",
      "metadata": {
        "collapsed": false,
        "outputHidden": false,
        "inputHidden": false,
        "id": "eRVCYTVjj196"
      },
      "source": [
        "# Random Patches\n",
        "## Sample both the training instances as well as features"
      ]
    },
    {
      "cell_type": "code",
      "metadata": {
        "outputHidden": false,
        "inputHidden": false,
        "id": "ub1F26Pbj197",
        "outputId": "44ce8646-3d49-4a03-a705-0aab5c489d7d"
      },
      "source": [
        "bag_clf = BaggingClassifier(\n",
        "    DecisionTreeClassifier(), \n",
        "    n_estimators=50, # number of base estimators\n",
        "    #max_samples=1.0, # number of samples to draw from X\n",
        "    bootstrap=False, # Draw with replacement\n",
        "    n_jobs=-1, # number of jobs to run in parallel\n",
        "    random_state=22,\n",
        "    bootstrap_features = True, # \n",
        "    max_samples = 0.6)\n",
        "bag_clf.fit(X_train, y_train)\n",
        "\n",
        "y_pred = bag_clf.predict(X_test)\n",
        "print(accuracy_score(y_test, y_pred))"
      ],
      "execution_count": null,
      "outputs": [
        {
          "output_type": "stream",
          "name": "stdout",
          "text": [
            "0.9122807017543859\n"
          ]
        }
      ]
    },
    {
      "cell_type": "markdown",
      "metadata": {
        "collapsed": false,
        "outputHidden": false,
        "inputHidden": false,
        "id": "Zryr3qdWj197"
      },
      "source": [
        "# Random Subspaces\n",
        "## keeps all the instances but samples features."
      ]
    },
    {
      "cell_type": "code",
      "metadata": {
        "outputHidden": false,
        "inputHidden": false,
        "id": "DfeaB-h9j198",
        "outputId": "77bd45a4-c0ba-455d-e37b-7fc7f729219e"
      },
      "source": [
        "bag_clf = BaggingClassifier(\n",
        "    DecisionTreeClassifier(), \n",
        "    n_estimators=50, # number of base estimators\n",
        "    #max_samples=1.0, # number of samples to draw from X\n",
        "    bootstrap=True, # Draw with replacement\n",
        "    n_jobs=-1, # number of jobs to run in parallel\n",
        "    random_state=22,\n",
        "    bootstrap_features = True, # \n",
        "    max_samples = 0.6,\n",
        "    max_features = 0.6)\n",
        "#max_samples less than 1.0 or discarded\n",
        "bag_clf.fit(X_train, y_train)\n",
        "\n",
        "y_pred = bag_clf.predict(X_test)\n",
        "print(accuracy_score(y_test, y_pred))"
      ],
      "execution_count": null,
      "outputs": [
        {
          "output_type": "stream",
          "name": "stdout",
          "text": [
            "0.9122807017543859\n"
          ]
        }
      ]
    },
    {
      "cell_type": "markdown",
      "metadata": {
        "collapsed": false,
        "outputHidden": false,
        "inputHidden": false,
        "id": "nST9jzHkj198"
      },
      "source": [
        "# Random Forest"
      ]
    },
    {
      "cell_type": "code",
      "metadata": {
        "outputHidden": false,
        "inputHidden": false,
        "id": "iCDuoIKgj198",
        "outputId": "b30803c4-aa43-4f26-91b5-22aa6996fe47"
      },
      "source": [
        "from sklearn.ensemble import RandomForestClassifier\n",
        "\n",
        "rnd_clf = RandomForestClassifier(n_estimators=5000, \n",
        "                                 criterion='gini',\n",
        "                                 max_depth=None,\n",
        "                                 max_leaf_nodes=16,\n",
        "                                 n_jobs=-1, # Parallel cores\n",
        "                                 random_state=934,\n",
        "                                 bootstrap = True,\n",
        "                                 max_samples=1)\n",
        "rnd_clf.fit(X_train, y_train)\n",
        "\n",
        "y_pred_rf = rnd_clf.predict(X_test)\n",
        "print(accuracy_score(y_test, y_pred_rf))"
      ],
      "execution_count": null,
      "outputs": [
        {
          "output_type": "stream",
          "name": "stdout",
          "text": [
            "0.26666666666666666\n"
          ]
        }
      ]
    },
    {
      "cell_type": "markdown",
      "metadata": {
        "collapsed": false,
        "outputHidden": false,
        "inputHidden": false,
        "id": "vCH27co_j199"
      },
      "source": [
        "# Adaboost"
      ]
    },
    {
      "cell_type": "code",
      "metadata": {
        "outputHidden": false,
        "inputHidden": false,
        "id": "2IIJUw0yj199"
      },
      "source": [
        "# Load libraries\n",
        "from sklearn.ensemble import AdaBoostClassifier\n",
        "from sklearn import datasets\n",
        "# Import train_test_split function\n",
        "from sklearn.model_selection import train_test_split"
      ],
      "execution_count": null,
      "outputs": []
    },
    {
      "cell_type": "code",
      "metadata": {
        "outputHidden": false,
        "inputHidden": false,
        "id": "X-dcRRfnj199"
      },
      "source": [
        "iris = datasets.load_iris()\n",
        "X = iris.data\n",
        "y = iris.target\n",
        "# Split dataset into training set and test set\n",
        "# 80% training and 30% test\n",
        "X_train, X_test, y_train, y_test = train_test_split(X, y, test_size=0.2)"
      ],
      "execution_count": null,
      "outputs": []
    },
    {
      "cell_type": "markdown",
      "metadata": {
        "id": "DIAfpDrSj199"
      },
      "source": [
        "![title](https://d31ezp3r8jwmks.cloudfront.net/variants/6bTVLAHna7XM5NkrEHeYXuKT/d2e337a4f6900f8d0798c596eb0607a8e0c2fbddb6a7ab7afcd60009c119d4c7)"
      ]
    },
    {
      "cell_type": "code",
      "metadata": {
        "outputHidden": false,
        "inputHidden": false,
        "id": "LDYhz6Spj199",
        "outputId": "2e042be4-bd67-41b0-e82e-b54500841b79"
      },
      "source": [
        "# Create adaboost classifer object\n",
        "abc = AdaBoostClassifier(n_estimators=50,\n",
        "                         learning_rate=1,\n",
        "                         base_estimator=DecisionTreeClassifier(max_depth=1))\n",
        "# Train Adaboost Classifer\n",
        "model = abc.fit(X_train, y_train)\n",
        "\n",
        "#Predict the response for test dataset\n",
        "y_pred = model.predict(X_test)\n",
        "\n",
        "# Model Accuracy, how often is the classifier correct?\n",
        "print(\"Accuracy:\",accuracy_score(y_test, y_pred))"
      ],
      "execution_count": null,
      "outputs": [
        {
          "output_type": "stream",
          "name": "stdout",
          "text": [
            "Accuracy: 0.9333333333333333\n"
          ]
        }
      ]
    },
    {
      "cell_type": "markdown",
      "metadata": {
        "collapsed": false,
        "outputHidden": false,
        "inputHidden": false,
        "id": "kmQ_47Voj19-"
      },
      "source": [
        "# Stacking"
      ]
    },
    {
      "cell_type": "code",
      "metadata": {
        "outputHidden": false,
        "inputHidden": false,
        "id": "GQZJoPBpj19-"
      },
      "source": [
        "from sklearn.linear_model import RidgeCV, LassoCV\n",
        "from sklearn.svm import SVR\n",
        "from sklearn.ensemble import GradientBoostingRegressor\n",
        "from sklearn.ensemble import StackingRegressor\n",
        "from sklearn.datasets import load_boston\n",
        "from sklearn.model_selection import train_test_split\n",
        "from sklearn.metrics import r2_score\n",
        "\n",
        "estimators = [('ridge', RidgeCV()),\n",
        "              ('lasso', LassoCV(random_state=42)),\n",
        "              ('svr', SVR(C=1, gamma=1e-6))]"
      ],
      "execution_count": null,
      "outputs": []
    },
    {
      "cell_type": "code",
      "metadata": {
        "outputHidden": false,
        "inputHidden": false,
        "id": "x0vvD8hOj19-"
      },
      "source": [
        "# Stacking model\n",
        "reg = StackingRegressor(\n",
        "    estimators=estimators,\n",
        "    final_estimator=GradientBoostingRegressor(random_state=934))"
      ],
      "execution_count": null,
      "outputs": []
    },
    {
      "cell_type": "code",
      "metadata": {
        "outputHidden": false,
        "inputHidden": false,
        "id": "9hi9IEZoj19-"
      },
      "source": [
        "X, y = load_boston(return_X_y=True)\n",
        "X_train, X_test, y_train, y_test = train_test_split(X, y, random_state=934)\n",
        "# Fit models\n",
        "reg = reg.fit(X_train, y_train)"
      ],
      "execution_count": null,
      "outputs": []
    },
    {
      "cell_type": "code",
      "metadata": {
        "outputHidden": false,
        "inputHidden": false,
        "id": "dDDp2vJSj19-",
        "outputId": "aa10cfd0-9f33-4cce-dd59-2c13fcfb58a1"
      },
      "source": [
        "# Test stacking model\n",
        "y_pred = reg.predict(X_test)\n",
        "print('R2 score: {:.2f}'.format(r2_score(y_test, y_pred)))"
      ],
      "execution_count": null,
      "outputs": [
        {
          "output_type": "stream",
          "name": "stdout",
          "text": [
            "R2 score: 0.84\n"
          ]
        }
      ]
    },
    {
      "cell_type": "code",
      "metadata": {
        "outputHidden": false,
        "inputHidden": false,
        "id": "8XDqn4XKj19-",
        "outputId": "57b39279-21af-4f3c-8edf-79a739ec58ee"
      },
      "source": [
        "import matplotlib.pyplot as plt\n",
        "fig = plt.figure(figsize=(10, 10), facecolor='w')\n",
        "plt.scatter(y_test, y_pred, c=\"g\")\n",
        "plt.xlabel(\"Actual\")\n",
        "plt.ylabel(\"Predicted\")"
      ],
      "execution_count": null,
      "outputs": [
        {
          "output_type": "execute_result",
          "execution_count": 53,
          "data": {
            "text/plain": [
              "Text(0, 0.5, 'Predicted')"
            ]
          },
          "metadata": {}
        },
        {
          "output_type": "display_data",
          "data": {
            "text/plain": [
              "<Figure size 720x720 with 1 Axes>"
            ],
            "image/png": "[encoded data removed]"
          },
          "metadata": {}
        }
      ]
    },
    {
      "cell_type": "code",
      "metadata": {
        "outputHidden": false,
        "inputHidden": false,
        "id": "rnodP6ppj19_"
      },
      "source": [
        ""
      ],
      "execution_count": null,
      "outputs": []
    }
  ]
}